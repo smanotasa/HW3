{
 "cells": [
  {
   "cell_type": "markdown",
   "id": "b59b3230",
   "metadata": {},
   "source": [
    "#### 1. Get together in groups as randomized here: https://docs.google.com/spreadsheets/d/1W0qAKkJ1_J6wXDOs0PhSTnWgwA9buZmMeI3YDGIYAYY/edit?usp=sharing\n",
    "\n",
    "Group members:\n",
    "- Luis Alejandro Quiñones.\n",
    "- Dominik Johannes Wielath.\n",
    "- Santiago Manotas-Arroyave."
   ]
  },
  {
   "cell_type": "markdown",
   "id": "bd42df0b",
   "metadata": {},
   "source": [
    "#### 2. Download the material for the homework and get the booking scrape code to run. Prove that you did by attaching a jupyter notebook. (this is only relevant for those who fail later steps). \n",
    "\n",
    "Design and implement a mini research project in which you research the effect of a big annual event in Barcelona on rental prices on booking by scraping data for at least two separate weeks (note that search results go across different pages) for Barcelona and at least one more city. Below:"
   ]
  },
  {
   "cell_type": "code",
   "execution_count": 18,
   "id": "b384306f",
   "metadata": {},
   "outputs": [],
   "source": [
    "geko_path = r'C:\\Users\\santi\\Documents\\M_DSDM\\Term_2\\Text_Mining\\HW3\\geckodriver.exe'\n",
    "dfolder = r'C:\\Users\\santi\\Documents\\M_DSDM\\Term_2\\Text_Mining\\HW3\\download'\n",
    "link = 'https://www.booking.com/index.es.html'\n",
    "download = r'C:\\Users\\santi\\Documents\\M_DSDM\\Term_2\\Text_Mining\\HW3'"
   ]
  },
  {
   "cell_type": "code",
   "execution_count": 37,
   "id": "45b933a7",
   "metadata": {},
   "outputs": [
    {
     "name": "stdout",
     "output_type": "stream",
     "text": [
      "Where do you want to go?: Barcelona\n",
      "Day from which you want to look for (In february): 2\n",
      "Day until which you want to look for (In february): 5\n"
     ]
    },
    {
     "ename": "WebDriverException",
     "evalue": "Message: Failed to decode response from marionette\n",
     "output_type": "error",
     "traceback": [
      "\u001b[1;31m---------------------------------------------------------------------------\u001b[0m",
      "\u001b[1;31mWebDriverException\u001b[0m                        Traceback (most recent call last)",
      "Cell \u001b[1;32mIn [37], line 82\u001b[0m\n\u001b[0;32m     78\u001b[0m time\u001b[38;5;241m.\u001b[39msleep(\u001b[38;5;241m2\u001b[39m)\n\u001b[0;32m     79\u001b[0m \u001b[38;5;66;03m# kzd.check_and_click(browser, 'div._fe1927d9e:nth-child(3) > div:nth-child(1) > div:nth-child(2) > div:nth-child(1) > div:nth-child(1) > div:nth-child(1) > div:nth-child(1) > div:nth-child(1) > div:nth-child(1) > div:nth-child(1) > h3:nth-child(1) > a:nth-child(1) > div:nth-child(1)', type='css')\u001b[39;00m\n\u001b[1;32m---> 82\u001b[0m hotels \u001b[38;5;241m=\u001b[39m \u001b[43mbrowser\u001b[49m\u001b[38;5;241;43m.\u001b[39;49m\u001b[43mfind_elements\u001b[49m\u001b[43m(\u001b[49m\u001b[38;5;124;43m'\u001b[39;49m\u001b[38;5;124;43mxpath\u001b[39;49m\u001b[38;5;124;43m'\u001b[39;49m\u001b[43m,\u001b[49m\u001b[38;5;124;43m'\u001b[39;49m\u001b[38;5;124;43m//div[@class=\u001b[39;49m\u001b[38;5;124;43m\"\u001b[39;49m\u001b[38;5;124;43mfcab3ed991 a23c043802\u001b[39;49m\u001b[38;5;124;43m\"\u001b[39;49m\u001b[38;5;124;43m]\u001b[39;49m\u001b[38;5;124;43m'\u001b[39;49m\u001b[43m)\u001b[49m\n\u001b[0;32m     83\u001b[0m ratings \u001b[38;5;241m=\u001b[39m browser\u001b[38;5;241m.\u001b[39mfind_elements(\u001b[38;5;124m'\u001b[39m\u001b[38;5;124mxpath\u001b[39m\u001b[38;5;124m'\u001b[39m,\u001b[38;5;124m'\u001b[39m\u001b[38;5;124m//div[@class=\u001b[39m\u001b[38;5;124m\"\u001b[39m\u001b[38;5;124mb5cd09854e d10a6220b4\u001b[39m\u001b[38;5;124m\"\u001b[39m\u001b[38;5;124m]\u001b[39m\u001b[38;5;124m'\u001b[39m)\n\u001b[0;32m     84\u001b[0m prices \u001b[38;5;241m=\u001b[39m browser\u001b[38;5;241m.\u001b[39mfind_elements(\u001b[38;5;124m'\u001b[39m\u001b[38;5;124mxpath\u001b[39m\u001b[38;5;124m'\u001b[39m,\u001b[38;5;124m'\u001b[39m\u001b[38;5;124m//div[@class=\u001b[39m\u001b[38;5;124m\"\u001b[39m\u001b[38;5;124mfcab3ed991 fbd1d3018c e729ed5ab6\u001b[39m\u001b[38;5;124m\"\u001b[39m\u001b[38;5;124m]\u001b[39m\u001b[38;5;124m'\u001b[39m)\n",
      "File \u001b[1;32m~\\AppData\\Roaming\\Python\\Python39\\site-packages\\selenium\\webdriver\\remote\\webdriver.py:888\u001b[0m, in \u001b[0;36mWebDriver.find_elements\u001b[1;34m(self, by, value)\u001b[0m\n\u001b[0;32m    884\u001b[0m     value \u001b[38;5;241m=\u001b[39m \u001b[38;5;124m'\u001b[39m\u001b[38;5;124m[name=\u001b[39m\u001b[38;5;124m\"\u001b[39m\u001b[38;5;132;01m%s\u001b[39;00m\u001b[38;5;124m\"\u001b[39m\u001b[38;5;124m]\u001b[39m\u001b[38;5;124m'\u001b[39m \u001b[38;5;241m%\u001b[39m value\n\u001b[0;32m    886\u001b[0m \u001b[38;5;66;03m# Return empty list if driver returns null\u001b[39;00m\n\u001b[0;32m    887\u001b[0m \u001b[38;5;66;03m# See https://github.com/SeleniumHQ/selenium/issues/4555\u001b[39;00m\n\u001b[1;32m--> 888\u001b[0m \u001b[38;5;28;01mreturn\u001b[39;00m \u001b[38;5;28;43mself\u001b[39;49m\u001b[38;5;241;43m.\u001b[39;49m\u001b[43mexecute\u001b[49m\u001b[43m(\u001b[49m\u001b[43mCommand\u001b[49m\u001b[38;5;241;43m.\u001b[39;49m\u001b[43mFIND_ELEMENTS\u001b[49m\u001b[43m,\u001b[49m\u001b[43m \u001b[49m\u001b[43m{\u001b[49m\n\u001b[0;32m    889\u001b[0m \u001b[43m    \u001b[49m\u001b[38;5;124;43m'\u001b[39;49m\u001b[38;5;124;43musing\u001b[39;49m\u001b[38;5;124;43m'\u001b[39;49m\u001b[43m:\u001b[49m\u001b[43m \u001b[49m\u001b[43mby\u001b[49m\u001b[43m,\u001b[49m\n\u001b[0;32m    890\u001b[0m \u001b[43m    \u001b[49m\u001b[38;5;124;43m'\u001b[39;49m\u001b[38;5;124;43mvalue\u001b[39;49m\u001b[38;5;124;43m'\u001b[39;49m\u001b[43m:\u001b[49m\u001b[43m \u001b[49m\u001b[43mvalue\u001b[49m\u001b[43m}\u001b[49m\u001b[43m)\u001b[49m[\u001b[38;5;124m'\u001b[39m\u001b[38;5;124mvalue\u001b[39m\u001b[38;5;124m'\u001b[39m] \u001b[38;5;129;01mor\u001b[39;00m []\n",
      "File \u001b[1;32m~\\AppData\\Roaming\\Python\\Python39\\site-packages\\selenium\\webdriver\\remote\\webdriver.py:428\u001b[0m, in \u001b[0;36mWebDriver.execute\u001b[1;34m(self, driver_command, params)\u001b[0m\n\u001b[0;32m    426\u001b[0m response \u001b[38;5;241m=\u001b[39m \u001b[38;5;28mself\u001b[39m\u001b[38;5;241m.\u001b[39mcommand_executor\u001b[38;5;241m.\u001b[39mexecute(driver_command, params)\n\u001b[0;32m    427\u001b[0m \u001b[38;5;28;01mif\u001b[39;00m response:\n\u001b[1;32m--> 428\u001b[0m     \u001b[38;5;28;43mself\u001b[39;49m\u001b[38;5;241;43m.\u001b[39;49m\u001b[43merror_handler\u001b[49m\u001b[38;5;241;43m.\u001b[39;49m\u001b[43mcheck_response\u001b[49m\u001b[43m(\u001b[49m\u001b[43mresponse\u001b[49m\u001b[43m)\u001b[49m\n\u001b[0;32m    429\u001b[0m     response[\u001b[38;5;124m'\u001b[39m\u001b[38;5;124mvalue\u001b[39m\u001b[38;5;124m'\u001b[39m] \u001b[38;5;241m=\u001b[39m \u001b[38;5;28mself\u001b[39m\u001b[38;5;241m.\u001b[39m_unwrap_value(\n\u001b[0;32m    430\u001b[0m         response\u001b[38;5;241m.\u001b[39mget(\u001b[38;5;124m'\u001b[39m\u001b[38;5;124mvalue\u001b[39m\u001b[38;5;124m'\u001b[39m, \u001b[38;5;28;01mNone\u001b[39;00m))\n\u001b[0;32m    431\u001b[0m     \u001b[38;5;28;01mreturn\u001b[39;00m response\n",
      "File \u001b[1;32m~\\AppData\\Roaming\\Python\\Python39\\site-packages\\selenium\\webdriver\\remote\\errorhandler.py:243\u001b[0m, in \u001b[0;36mErrorHandler.check_response\u001b[1;34m(self, response)\u001b[0m\n\u001b[0;32m    241\u001b[0m         alert_text \u001b[38;5;241m=\u001b[39m value[\u001b[38;5;124m'\u001b[39m\u001b[38;5;124malert\u001b[39m\u001b[38;5;124m'\u001b[39m]\u001b[38;5;241m.\u001b[39mget(\u001b[38;5;124m'\u001b[39m\u001b[38;5;124mtext\u001b[39m\u001b[38;5;124m'\u001b[39m)\n\u001b[0;32m    242\u001b[0m     \u001b[38;5;28;01mraise\u001b[39;00m exception_class(message, screen, stacktrace, alert_text)  \u001b[38;5;66;03m# type: ignore[call-arg]  # mypy is not smart enough here\u001b[39;00m\n\u001b[1;32m--> 243\u001b[0m \u001b[38;5;28;01mraise\u001b[39;00m exception_class(message, screen, stacktrace)\n",
      "\u001b[1;31mWebDriverException\u001b[0m: Message: Failed to decode response from marionette\n"
     ]
    }
   ],
   "source": [
    "#%%\n",
    "#!pip3 install -r requirements.txt\n",
    "import dropbox\n",
    "from selenium.webdriver.common.keys import Keys\n",
    "# auxiliary functions modified by Luis.\n",
    "import scrape_functions as kzd\n",
    "import sys\n",
    "import calendar\n",
    "from selenium.common.exceptions import NoSuchElementException, ElementClickInterceptedException, StaleElementReferenceException\n",
    "import re\n",
    "from selenium.webdriver.support.ui import Select\n",
    "import random\n",
    "import time\n",
    "from selenium import webdriver\n",
    "import os\n",
    "import numpy as np\n",
    "import importlib\n",
    "importlib.reload(sys.modules['scrape_functions'])\n",
    "from datetime import date\n",
    "# %% Starting code\n",
    "geko_path = r'C:\\Users\\santi\\Documents\\M_DSDM\\Term_2\\Text_Mining\\HW3\\geckodriver.exe'\n",
    "\n",
    "\n",
    "profile, browser, download_path = kzd.start_up(dfolder, link, download)\n",
    "# Clicking on the different buttoms to input things:\n",
    "time.sleep(3)\n",
    "\n",
    "# Navigate to a webpage\n",
    "browser.get(\"https://www.booking.com/index.es.html\")\n",
    "time.sleep(1)\n",
    "\n",
    "# Click on  place\n",
    "#%%\n",
    "place = input('Where do you want to go?: ')\n",
    "search1 = browser.find_element('xpath','//input[@placeholder=\"¿Adónde vas?\"]')\n",
    "search1.send_keys(place)\n",
    "#%%\n",
    "#__bui-c969239-1\n",
    "time.sleep(2)\n",
    "\n",
    "# Click on dates:\n",
    "\n",
    "kzd.check_and_click(\n",
    "    browser, '//button[@class=\"d47738b911 e246f833f7 fe211c0731\"]', type='xpath')\n",
    "\n",
    "dates = browser.find_elements('xpath',\n",
    "                              '//div[@class=\"bui-calendar__wrapper\"]//table[@class=\"bui-calendar__dates\"]//tbody//td[@class!=\"bui-calendar__date--empty\"]')\n",
    "\n",
    "from_day = input('Day from which you want to look for (In february): ')\n",
    "#if int(from_day)< date.today().day:\n",
    "    #print('Wrong from_day')\n",
    "\n",
    "to_day = input('Day until which you want to look for (In february): ')\n",
    "\n",
    "for date1 in dates:\n",
    "    if date1.get_attribute(\"data-date\") == f\"2023-02-{from_day}\":\n",
    "        #date1.click()\n",
    "        browser.execute_script(\"arguments[0].click();\", date1)\n",
    "    if date1.get_attribute(\"data-date\") == f\"2023-02-{to_day}\":\n",
    "        #date1.click()\n",
    "        browser.execute_script(\"arguments[0].click();\", date1)\n",
    "        break\n",
    "\n",
    "\n",
    "#%% Click to search:\n",
    "\n",
    "kzd.check_and_click(\n",
    "    browser, 'button.d4b6b7a9e7', type='css')\n",
    "time.sleep(2)\n",
    "# kzd.check_and_click(browser, 'div._fe1927d9e:nth-child(3) > div:nth-child(1) > div:nth-child(2) > div:nth-child(1) > div:nth-child(1) > div:nth-child(1) > div:nth-child(1) > div:nth-child(1) > div:nth-child(1) > div:nth-child(1) > h3:nth-child(1) > a:nth-child(1) > div:nth-child(1)', type='css')\n",
    "\n",
    "\n",
    "hotels = browser.find_elements('xpath','//div[@class=\"fcab3ed991 a23c043802\"]')\n",
    "ratings = browser.find_elements('xpath','//div[@class=\"b5cd09854e d10a6220b4\"]')\n",
    "prices = browser.find_elements('xpath','//div[@class=\"fcab3ed991 fbd1d3018c e729ed5ab6\"]')\n",
    "\n",
    "ratings_list=[]\n",
    "for i in ratings:\n",
    "    #print(i.get_attribute('data-testid'))\n",
    "    print(i.text)\n",
    "    ratings_list.append(i.text)\n",
    "hotels_list=[]\n",
    "for i in hotels:\n",
    "    #print(i.get_attribute('data-testid'))\n",
    "    print(i.text)\n",
    "    hotels_list.append(i.text)\n",
    "prices_list=[]\n",
    "for i in prices:\n",
    "    #print(i.get_attribute('data-testid'))\n",
    "    print(i.text)\n",
    "    prices_list.append(i.text)\n",
    "    \n",
    "\n",
    "#%% LOOPING OVER WEBPAGES:\n",
    "\n",
    "\"\"\"\n",
    "This function is to obtain total number of pages.\n",
    "To loop, just insert the full code on a big loop and use the pages output.\n",
    "\n",
    "\n",
    "ADDITION: You can also add random waiting times to avoid getting banned from webpages.\n",
    "\"\"\"\n",
    "\n",
    "time.sleep(2)\n",
    "\n",
    "\n",
    "def get_number_pages(browser):\n",
    "    '''\n",
    "    Get the number of pages. \n",
    "    '''\n",
    "    a = browser.find_elements('xpath',\n",
    "        '//button[text() and @class=\"fc63351294 f9c5690c58\"]')\n",
    "    total_pages = int(a[-1].text)\n",
    "    return(total_pages)\n",
    "\n",
    "\n",
    "pages = get_number_pages(browser)\n",
    "#From here it is very easy to program a loop that waits and keeps appending results\n",
    "\n",
    "#\n",
    "#\n",
    "#"
   ]
  },
  {
   "cell_type": "markdown",
   "id": "238a7da0",
   "metadata": {},
   "source": [
    "#### 3. Identify an event that makes a lot people come to Barcelona.\n",
    "\n",
    "Upcoming events in the calendar year (by order):\n",
    "- Mobile World Congress, February.\n",
    "- Festes de Santa Eulália, February.\n",
    "- Barcelona Film Festival, April.\n",
    "- Primavera Sound 2023, May/June.\n",
    "- Sónar Festival 2023, June.\n",
    "- La Mercé 2023, September.\n"
   ]
  },
  {
   "cell_type": "markdown",
   "id": "62c411a0",
   "metadata": {},
   "source": [
    "#### 4. Think of the time periods to scrape and what second city to scrape. Explain your choices in written.\n",
    "\n",
    "In order to establish a well-defined DiD regression we need to consider and comply for its assumptions. \n",
    "\n",
    "Firstly: Considering Barcelona as the main tourist hub for Spain during the summer season, the choice for another city would be initially narrowed down to cities in Spain that are also highly visited during these times. Along with keeping this in check, it would be wise to consider locations with similarities in what the city has to offer in the cultural and general entertainment scene; as well as population and extension factors. It is also important to denote that Barcelona is a coastal city, and thus we would also have to compare to a coastal city; or add a beach proximity control if choosing a landlocked sister location. \n",
    "\n",
    "The logical choice for a city that fulfills most of these conditions to match with Barcelona is Madrid (making up the 2 largest cities in Spain by most measures). Population-wise, the metropolitan areas have the closest numbers to each other; in terms of economic and cultural activities they are also the most comparable and concurred during peak seasons. Although Madrid is in the middle on the Spanish territory, inputting a control for coastal proximity would allow us to isolate for the effect we are looking for; i.e.: it makes a better sense to compare Barcelona and Madrid than Barcelona and Valencia, or even that with cities outside of Spain.\n",
    "\n",
    "Secondly: The time periods to consider would be a comparable week (to consider as the \"control\" time period) and an event week. Ideally, the comparable week and the event week should have close similiraties in terms of seasonality, weather, and specially that they are close in time (as well as factors pertaining to other yearly events that might increase affluence to the city). Another thing to keep in mind is the scale of the affluency event. Given the cultural differences between regions, we have to consider between choosing an event that would attract differentc types of tourists. Corporate, topic-specific events from the likes of the Mobile World Congress may have less attendance figures than cultural celebrations such as La Mercé; or than music-central activities such as the Primavera Sound Festival.\n",
    "\n",
    "Considering all of this, by attendance information of the past iterations of events mentioned, our pick is for the Primavera Sound 2023 (May 31st - June 4th). Out of past versions of events mentioned, it had the highest participation for last year, around ~450.000 estimated attendees."
   ]
  },
  {
   "cell_type": "markdown",
   "id": "437feaab",
   "metadata": {},
   "source": [
    "#### 5. Write down a fixed effects regression equation that allows you to derive a difference-in-difference estimate of the effect of the event on prices. Think of controls to add, why is this relevant? Explain why you need a second city for this."
   ]
  },
  {
   "attachments": {},
   "cell_type": "markdown",
   "id": "8f611bda",
   "metadata": {},
   "source": [
    "The bare fixed effects regression equation is:\n",
    "\n",
    "$ Accommodation \\ Price = \\beta_{0} + \\beta_{1} \\cdot Event + \\beta_{2} \\cdot City + \\beta_{3} \\cdot Event \\cdot City + \\epsilon $\n",
    "\n",
    "This equation however, does not include any controls, which may present omitted variable bias when running it like this. \n",
    "\n",
    "Differences-in-Differences approaches to causal inference require the assumptions of common trend and counterfactual trend for treated individuals (in the absence of treatment). The former property enables the underlying pattern of change that affects both cities, accounting for external factors. For the latter assumption, a counterfactual is requisite to draw comparisons of our target variable when the treatment (event) occurs for the group (city) we have decided to analyze. This in regard to a __comparable city__ where the event had not taken place.  Note that it is important for the correct set-up of a DiD (Differences-in-Differences) model that both subjects are comparable in underlying trends and characteristics; particularly those affecting economic and tourism patterns, which is why the best choice for Madrid would indeed be confirmed.\n",
    "\n",
    "For a DiD estimator to correctly hold and for estimations to be arguably significant we would first have to account for underlying characteristics and trends that may be proxied by data we also pull. Controls such as seasonality (a dummy for high or low season), economic conditions (income, consumer spending, unemployment rate, inflation), weather controls (average temperature, precipitation), and (given what was mentioned in the last exercise) a beach (dummy) and event location proximity (given that we have hotel name and could use lat and long coordinates) variable. These added variables are relevant in the sense that they isolate the effect we would be trying to estimate, which is the effect of the set event in Barcelona on accomoddation prices; reducing omitted variable bias.  \n",
    "\n",
    "$ Accommodation \\ Price = \\beta_{0} + \\beta_{1} \\cdot Event + \\beta_{2} \\cdot City + \\beta_{3} \\cdot Event \\cdot City + \\beta_{4} \\cdot Economic + \\beta_{5} \\cdot Beach + \\beta_{6} \\cdot Location + \\beta_{7} \\cdot Seasonality + \\epsilon $"
   ]
  },
  {
   "cell_type": "markdown",
   "id": "8a972d8c",
   "metadata": {},
   "source": [
    "#### 6. Scrape using a modified code that implements a loop across pages of the booking page and searches for different dates and cities."
   ]
  },
  {
   "cell_type": "code",
   "execution_count": 23,
   "id": "8c5f0858",
   "metadata": {},
   "outputs": [],
   "source": [
    "import requests\n",
    "import pandas as pd\n",
    "from bs4 import BeautifulSoup\n",
    "import os\n",
    "import time\n",
    "import scrape_functions as kzd\n",
    "\n",
    "from selenium import webdriver\n",
    "from selenium.webdriver.firefox.service import Service\n",
    "from selenium.webdriver.common.keys import Keys\n",
    "from selenium.webdriver.common.by import By\n",
    "from datetime import date"
   ]
  },
  {
   "cell_type": "code",
   "execution_count": 11,
   "id": "c4d67300",
   "metadata": {
    "scrolled": false
   },
   "outputs": [],
   "source": [
    "# Start a new browser instance. Remember to change to your working directory\n",
    "option = webdriver.FirefoxOptions()\n",
    "option.binary_location = 'C:\\\\Program Files\\\\Mozilla Firefox\\\\firefox.exe'\n",
    "driverService = Service(r'C:\\Users\\santi\\Documents\\M_DSDM\\Term_2\\Text_Mining\\HW3\\geckodriver.exe')\n",
    "browser = webdriver.Firefox(service=driverService, options=option)\n",
    "\n",
    "# Navigate to a webpage\n",
    "browser.get(\"https://booking.com/\")\n",
    "time.sleep(1)\n",
    "\n",
    "# Get the user's desired location\n",
    "search1 = browser.find_element('xpath','//input[@placeholder=\"Where are you going?\"]')\n",
    "search1.send_keys('Barcelona') #change the city, be as specific as possible\n",
    "\n",
    "# Wait for the options to appear\n",
    "time.sleep(2)\n",
    "\n",
    "# Press the down arrow key to hover over the first option\n",
    "search1.send_keys(Keys.ARROW_DOWN)\n",
    "\n",
    "# Press the enter key to select it\n",
    "search1.send_keys(Keys.RETURN)"
   ]
  },
  {
   "cell_type": "markdown",
   "id": "38b6cc4e",
   "metadata": {},
   "source": [
    "#### 7. Discuss two additional ideas (no need to implement): a) the use of the text that can be scraped from the hotel/apartment description b) how to de-construct the treatment effect in the effect that comes from the same hotel changing prices and composition of places changing.\n",
    "\n",
    "- The use of text scraped from accommodation descriptions can be useful to denote price mark-ups in accordance to the ammenities that each accommodation has (think of high-speed internet, in-unit washing area, 24/7 surveillance, clerk availability, pool, gym). Hotel/apartment-quality/appeareance/architecture (i.e.: beautiful modern room, contemporary, loft-style) related adjectives may also be scraped to further differentiate between observations for more variability. It would be also important to consider through text scraping the unit descriptions if price premiums have a differential trend for different accommodation types; that is, varying estimators for hotel rooms, apartments, shared rooms, hostels.\n",
    "\n",
    "- Intentional price changes from accommodation handlers are part of the estimation set out by the model, the presence of an event is surely a driver of price mark-ups around the time of the event. As discussed before, the presence of a comparison group similar in economic and demographic characteristics is imperative for the estimation. To overcome composition of places changing we can make use of data coming from rating pages, size of accommodation, budget-orientation, and type. Furthermore, making use of panel data to account for time-invariant differences between locations would get control over the second issue."
   ]
  }
 ],
 "metadata": {
  "kernelspec": {
   "display_name": "base",
   "language": "python",
   "name": "python3"
  },
  "language_info": {
   "codemirror_mode": {
    "name": "ipython",
    "version": 3
   },
   "file_extension": ".py",
   "mimetype": "text/x-python",
   "name": "python",
   "nbconvert_exporter": "python",
   "pygments_lexer": "ipython3",
   "version": "3.9.13 (main, Aug 25 2022, 23:51:50) [MSC v.1916 64 bit (AMD64)]"
  },
  "vscode": {
   "interpreter": {
    "hash": "ad2bdc8ecc057115af97d19610ffacc2b4e99fae6737bb82f5d7fb13d2f2c186"
   }
  }
 },
 "nbformat": 4,
 "nbformat_minor": 5
}
